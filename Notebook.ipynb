{
 "cells": [
  {
   "cell_type": "markdown",
   "id": "b296d2d7",
   "metadata": {},
   "source": [
    "Part 1: Climate Analysis and Exploration\n",
    "In this section, you’ll use Python and SQLAlchemy to perform basic climate analysis and data exploration of your climate database. Complete the following tasks by using SQLAlchemy ORM queries, Pandas, and Matplotlib.\n",
    "\n",
    "\n",
    "Use the provided starter notebook and hawaii.sqlite files to complete your climate analysis and data exploration.\n",
    "\n",
    "\n",
    "Use SQLAlchemy’s create_engine to connect to your SQLite database.\n",
    "\n",
    "\n",
    "Use SQLAlchemy’s automap_base() to reflect your tables into classes and save a reference to those classes called Station and Measurement.\n",
    "\n",
    "\n",
    "Link Python to the database by creating a SQLAlchemy session.\n",
    "\n",
    "\n",
    "Important: Don't forget to close out your session at the end of your notebook."
   ]
  },
  {
   "cell_type": "code",
   "execution_count": 29,
   "id": "0c0b3799",
   "metadata": {},
   "outputs": [],
   "source": [
    "# Python SQL toolkit and Object Relational Mapper\n",
    "import sqlalchemy\n",
    "from sqlalchemy.ext.automap import automap_base\n",
    "from sqlalchemy.orm import Session\n",
    "from sqlalchemy import create_engine\n",
    "import pandas as pd"
   ]
  },
  {
   "cell_type": "code",
   "execution_count": 8,
   "id": "2670e7f9",
   "metadata": {},
   "outputs": [],
   "source": [
    "# Create engine using the database file\n",
    "engine = create_engine(f\"sqlite:////Users/swa/Documents/UC_Irvine/Homework/10-Advanced-Data-Storage-and-Retrieval/Instructions/Resources/hawaii.sqlite\") \n",
    "conn = engine.connect()\n",
    "\n",
    "# Lesson 2.6\n",
    "# Declare a Base using `automap_base()`\n",
    "Base = automap_base()\n",
    "\n",
    "# Use the Base class to reflect the database tables\n",
    "Base.prepare(engine, reflect=True)\n",
    "\n",
    "# Print all of the classes mapped to the Base\n",
    "Base.classes.keys()\n",
    "\n",
    "# Assign the classes to variables called Station and Measurement\n",
    "Station = Base.classes.station\n",
    "Measurement = Base.classes.measurement\n",
    "\n",
    "# Create a session\n",
    "session = Session(engine)"
   ]
  },
  {
   "cell_type": "markdown",
   "id": "106e09cd",
   "metadata": {},
   "source": [
    "Precipitation Analysis\n",
    "To perform an analysis of precipitation in the area, do the following:\n",
    "\n",
    "\n",
    "Find the most recent date in the dataset.\n",
    "\n",
    "\n",
    "Using this date, retrieve the previous 12 months of precipitation data by querying the 12 previous months of data. Note: Do not pass in the date as a variable to your query.\n",
    "\n",
    "\n",
    "Select only the date and prcp values.\n",
    "\n",
    "\n",
    "Load the query results into a Pandas DataFrame, and set the index to the date column.\n",
    "\n",
    "\n",
    "Sort the DataFrame values by date.\n",
    "\n",
    "\n",
    "Plot the results by using the DataFrame plot method, as shown in the following image:\n",
    "\n",
    "\n",
    "Use Pandas to print the summary statistics for the precipitation data.\n"
   ]
  },
  {
   "cell_type": "code",
   "execution_count": 52,
   "id": "ec89e763",
   "metadata": {
    "scrolled": true
   },
   "outputs": [
    {
     "name": "stdout",
     "output_type": "stream",
     "text": [
      "2017-08-23\n",
      "2016-08-23 00:00:00\n"
     ]
    },
    {
     "data": {
      "text/html": [
       "<div>\n",
       "<style scoped>\n",
       "    .dataframe tbody tr th:only-of-type {\n",
       "        vertical-align: middle;\n",
       "    }\n",
       "\n",
       "    .dataframe tbody tr th {\n",
       "        vertical-align: top;\n",
       "    }\n",
       "\n",
       "    .dataframe thead th {\n",
       "        text-align: right;\n",
       "    }\n",
       "</style>\n",
       "<table border=\"1\" class=\"dataframe\">\n",
       "  <thead>\n",
       "    <tr style=\"text-align: right;\">\n",
       "      <th></th>\n",
       "    </tr>\n",
       "  </thead>\n",
       "  <tbody>\n",
       "  </tbody>\n",
       "</table>\n",
       "</div>"
      ],
      "text/plain": [
       "Empty DataFrame\n",
       "Columns: []\n",
       "Index: []"
      ]
     },
     "metadata": {},
     "output_type": "display_data"
    }
   ],
   "source": [
    "# Find the most recent date in the dataset.\n",
    "\n",
    "# Using this date, retrieve the previous 12 months of precipitation data by querying the 12 previous months of data. Note: Do not pass in the date as a variable to your query.\n",
    "\n",
    "# Select only the date and prcp values.\n",
    "from datetime import datetime\n",
    "from dateutil. relativedelta import relativedelta\n",
    "\n",
    "measurements = session.query(Measurement)\n",
    "most_recent_date = measurements[-1].date\n",
    "previous_year = datetime.fromisoformat(most_recent_date) - relativedelta(years=1)\n",
    "print(most_recent_date)\n",
    "print(previous_year)\n",
    "                                    \n",
    "measurements = session.query(Measurement).filter(datetime.fromisoformat(measurement.date) >= previous_year).all()\n",
    "df = pd.DataFrame()\n",
    "for measurement in measurements:\n",
    "    print(measurement.date)\n",
    "    print(measurement.prcp)\n",
    "    df.append({'Date' : measurement.date, 'PRCP' : measurement.prcp}, ignore_index=True)\n",
    "display(df)"
   ]
  },
  {
   "cell_type": "code",
   "execution_count": 37,
   "id": "e71438dc",
   "metadata": {},
   "outputs": [],
   "source": [
    "# # Use the session to query Stations table and display the first 5 locations\n",
    "# for row in session.query(Stations, Stations.location).limit(5).all():\n",
    "#     print(row)\n",
    "\n",
    "# # Use the session to query Measurements table and display the first 5 locations\n",
    "# for row in session.query(Measurements, Measurements.location).limit(5).all():\n",
    "#     print(row)\n",
    "    \n",
    "# data = pd.read_sql(\"SELECT * FROM Census_Data\", conn)\n",
    "\n",
    "# stations = session.query(Station) for station in stations:\n",
    "# print(station.name)"
   ]
  },
  {
   "cell_type": "markdown",
   "id": "969f7426",
   "metadata": {},
   "source": [
    "Station Analysis\n",
    "To perform an analysis of stations in the area, do the following:\n",
    "\n",
    "\n",
    "Design a query to calculate the total number of stations in the dataset.\n",
    "\n",
    "\n",
    "Design a query to find the most active stations (the stations with the most rows).\n",
    "\n",
    "\n",
    "List the stations and observation counts in descending order.\n",
    "\n",
    "\n",
    "Which station id has the highest number of observations?\n",
    "\n",
    "\n",
    "Using the most active station id, calculate the lowest, highest, and average temperatures.\n",
    "\n",
    "\n",
    "Hint: You will need to use functions such as func.min, func.max, func.avg, and func.count in your queries."
   ]
  },
  {
   "cell_type": "code",
   "execution_count": null,
   "id": "4b68babf",
   "metadata": {},
   "outputs": [],
   "source": [
    "# Design a query to calculate the total number of stations in the dataset.\n",
    "stations = session.query(Station)\n",
    "\n",
    "# Design a query to find the most active stations (the stations with the most rows).\n",
    "measurements = session.query(Measurement)\n",
    "\n",
    "# List the stations and observation counts in descending order.\n",
    "\n",
    "# Which station id has the highest number of observations?\n",
    "\n",
    "# Using the most active station id, calculate the lowest, highest, and average temperatures.\n",
    "# Hint: You will need to use functions such as func.min, func.max, func.avg, and func.count in your queries.\n"
   ]
  },
  {
   "cell_type": "markdown",
   "id": "98cb3942",
   "metadata": {},
   "source": [
    "Design a query to retrieve the previous 12 months of temperature observation data (TOBS).\n",
    "\n",
    "\n",
    "Filter by the station with the highest number of observations.\n",
    "\n",
    "\n",
    "Query the previous 12 months of temperature observation data for this station.\n",
    "\n",
    "\n",
    "Plot the results as a histogram with bins=12, as shown in the following image\n",
    "\n",
    "\n",
    "Close out your session."
   ]
  },
  {
   "cell_type": "code",
   "execution_count": null,
   "id": "32b37954",
   "metadata": {},
   "outputs": [],
   "source": [
    "# Design a query to retrieve the previous 12 months of temperature observation data (TOBS).\n",
    "\n",
    "\n",
    "# Filter by the station with the highest number of observations.\n",
    "\n",
    "\n",
    "# Query the previous 12 months of temperature observation data for this station.\n",
    "\n",
    "\n",
    "# Plot the results as a histogram with bins=12, as shown in the following image"
   ]
  }
 ],
 "metadata": {
  "kernelspec": {
   "display_name": "Python 3 (ipykernel)",
   "language": "python",
   "name": "python3"
  },
  "language_info": {
   "codemirror_mode": {
    "name": "ipython",
    "version": 3
   },
   "file_extension": ".py",
   "mimetype": "text/x-python",
   "name": "python",
   "nbconvert_exporter": "python",
   "pygments_lexer": "ipython3",
   "version": "3.9.7"
  }
 },
 "nbformat": 4,
 "nbformat_minor": 5
}
